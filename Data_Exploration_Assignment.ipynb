{
  "nbformat": 4,
  "nbformat_minor": 0,
  "metadata": {
    "colab": {
      "provenance": [],
      "authorship_tag": "ABX9TyMYBI25H1RkHeFqKevaHLko",
      "include_colab_link": true
    },
    "kernelspec": {
      "name": "python3",
      "display_name": "Python 3"
    },
    "language_info": {
      "name": "python"
    }
  },
  "cells": [
    {
      "cell_type": "markdown",
      "metadata": {
        "id": "view-in-github",
        "colab_type": "text"
      },
      "source": [
        "<a href=\"https://colab.research.google.com/github/Don-Ho25/Colab_GitHub_interaction/blob/main/Data_Exploration_Assignment.ipynb\" target=\"_parent\"><img src=\"https://colab.research.google.com/assets/colab-badge.svg\" alt=\"Open In Colab\"/></a>"
      ]
    },
    {
      "cell_type": "markdown",
      "source": [
        "# **Assignment 1**\n",
        "\n",
        "### **Dong**"
      ],
      "metadata": {
        "id": "IyF1jnuVyqr7"
      }
    },
    {
      "cell_type": "markdown",
      "source": [
        "## 1. Set Up Google Colab:\n",
        "\n",
        "-  Access Google Colab and create a new notebook.\n",
        "\n",
        "- Rename the notebook as Data_Exploration_Assignment.ipynb."
      ],
      "metadata": {
        "id": "Rxy6wTERyEw2"
      }
    },
    {
      "cell_type": "markdown",
      "source": [
        "## 2. \tBasic Operations in Google Colab:\n",
        "\n",
        "\n",
        "\n",
        "*  \tCreate a Markdown Cell to write a brief introduction to your notebook.\n",
        "\n",
        "*   LAdd a Code Cell and write a Python program to print a list of your top 3 favorite hobbies."
      ],
      "metadata": {
        "id": "9F1jePB5zIIY"
      }
    },
    {
      "cell_type": "markdown",
      "source": [],
      "metadata": {
        "id": "NtVEh5oJyfK3"
      }
    },
    {
      "cell_type": "markdown",
      "source": [
        "Here is my  first markdown for the assignment. In this notebook, I will do my 1st Assignment for Introduction to Artificial Intelligence course."
      ],
      "metadata": {
        "id": "mxQIP2CNxdsT"
      }
    },
    {
      "cell_type": "code",
      "source": [
        "# List of the  top 3 favarite hobbies\n",
        "hobbies = [\n",
        "    \"Watching soccer\",\n",
        "    \"Gardening\",\n",
        "    \"Coding/Programming\",\n",
        "    \"Watching documentaries\",\n",
        "    \"Photography\",\n",
        "    \"Cooking/Baking\",\n",
        "    \"Playing a Musical Instrument\",\n",
        "    \"Painting/Drawing\",\n",
        "    \"Knitting/Crocheting\",\n",
        "    \"Board Games/Puzzles\",\n",
        "\n",
        "]\n",
        "print(\"My top 3 hobbies are:\")\n",
        "for hobby in range(3):\n",
        "  print(f'\\n{hobbies[hobby]}')"
      ],
      "metadata": {
        "colab": {
          "base_uri": "https://localhost:8080/"
        },
        "id": "e86JcgK6x5lB",
        "outputId": "759b3738-2f4a-47fe-8784-00cec205f503"
      },
      "execution_count": 51,
      "outputs": [
        {
          "output_type": "stream",
          "name": "stdout",
          "text": [
            "My top 3 hobbies are:\n",
            "\n",
            "Watching soccer\n",
            "\n",
            "Gardening\n",
            "\n",
            "Coding/Programming\n"
          ]
        }
      ]
    },
    {
      "cell_type": "code",
      "source": [],
      "metadata": {
        "id": "9hxhAEAWCCT_"
      },
      "execution_count": null,
      "outputs": []
    },
    {
      "cell_type": "markdown",
      "source": [
        "## 3. Data Manipulation with Pandas:\n",
        "\n",
        "*   Create a sample dataset using a dictionary.\n",
        "\n",
        "*   Convert it into a Pandas DataFrame and display it.\n",
        "  \n",
        "*  Add a Markdown cell to describe your data."
      ],
      "metadata": {
        "id": "fAprgzvbCDWi"
      }
    },
    {
      "cell_type": "code",
      "source": [
        "import pandas as pd\n",
        "data = {\n",
        "    'Product': ['Laptop', 'Mouse', 'Keyboard', 'Monitor', 'Webcam'],\n",
        "    'Category': ['Electronics', 'Electronics', 'Electronics', 'Electronics', 'Electronics'],\n",
        "    'Price': [1200, 25, 75, 300, 50],\n",
        "    'Quantity_Sold': [150, 500, 300, 100, 250],\n",
        "    'In_Stock': [True, True, False, True, True]\n",
        "}\n",
        "df = pd.DataFrame(data)\n",
        "print(df)"
      ],
      "metadata": {
        "colab": {
          "base_uri": "https://localhost:8080/"
        },
        "id": "EZ4jR2-Nzzdw",
        "outputId": "eff3cae9-fa95-4cad-caf5-481e581f7ccf"
      },
      "execution_count": 50,
      "outputs": [
        {
          "output_type": "stream",
          "name": "stdout",
          "text": [
            "    Product     Category  Price  Quantity_Sold  In_Stock\n",
            "0    Laptop  Electronics   1200            150      True\n",
            "1     Mouse  Electronics     25            500      True\n",
            "2  Keyboard  Electronics     75            300     False\n",
            "3   Monitor  Electronics    300            100      True\n",
            "4    Webcam  Electronics     50            250      True\n"
          ]
        }
      ]
    },
    {
      "cell_type": "markdown",
      "source": [
        "The data in the dataframe above contains information about various products, including their Product name, Category, Price, Quantity Sold, and whether they are In Stock."
      ],
      "metadata": {
        "id": "y1Mfxe7sBUlG"
      }
    },
    {
      "cell_type": "code",
      "source": [
        "# !jupyter nbconvert Data_Exploration_Assignment --to pdf"
      ],
      "metadata": {
        "id": "V5fABpvG3Ti9"
      },
      "execution_count": null,
      "outputs": []
    },
    {
      "cell_type": "code",
      "source": [],
      "metadata": {
        "id": "Vrn6zkEEZiyi"
      },
      "execution_count": null,
      "outputs": []
    },
    {
      "cell_type": "markdown",
      "source": [
        "## 4. Data Visualization with Matplotlib/Seaborn:\n",
        "\n",
        "*  Create a bar chart or line plot to visualize your data.\n",
        "\n",
        "* Add a Markdown cell explaining the visualization."
      ],
      "metadata": {
        "id": "k2IQ5ojXZvy6"
      }
    },
    {
      "cell_type": "code",
      "source": [
        "import matplotlib.pyplot as plt\n",
        "import seaborn as sns\n",
        "sns.barplot(x='Product', y='Quantity_Sold', data=df)\n",
        "plt.title('Quantity Sold by Product')\n",
        "plt.xlabel('Product')\n",
        "plt.ylabel('Quantity Sold')\n",
        "plt.show()"
      ],
      "metadata": {
        "id": "-1Fa1e07DY_b",
        "colab": {
          "base_uri": "https://localhost:8080/",
          "height": 472
        },
        "outputId": "76c7a2a3-023e-4acf-ce22-a76cb75c0dbc"
      },
      "execution_count": 52,
      "outputs": [
        {
          "output_type": "display_data",
          "data": {
            "text/plain": [
              "<Figure size 640x480 with 1 Axes>"
            ],
            "image/png": "[encoded data removed]"
          },
          "metadata": {}
        }
      ]
    },
    {
      "cell_type": "markdown",
      "source": [
        "The bar chart clearly illustrates that the mouse is the most sold IT product, followed by the keyboard and the webcam. The comparatively lower sales figures for laptops and monitors could reasonably be attributed to their higher cost, as consumers tend to be more careful and less frequent in their purchases of such expensive items compared to smaller, more disposable accessories."
      ],
      "metadata": {
        "id": "eHCBV0yyLz5J"
      }
    },
    {
      "cell_type": "code",
      "source": [],
      "metadata": {
        "id": "XTrHys1-aDJb"
      },
      "execution_count": null,
      "outputs": []
    },
    {
      "cell_type": "markdown",
      "source": [
        "## 5. Advanced Features:\n",
        "\n",
        "*  Mount Your Google Drive: Upload a small CSV file to your Google Drive and load it into the notebook. Perform a simple operation like displaying the first few rows.\n",
        "*  Use Magic Commands: Use %timeit to measure the execution time of a simple list comprehension.\n"
      ],
      "metadata": {
        "id": "n_-1BMKraE2a"
      }
    },
    {
      "cell_type": "code",
      "source": [
        "import pandas as pd\n",
        "from google.colab import drive\n",
        "drive.mount('/content/drive')"
      ],
      "metadata": {
        "id": "bnK7pR2FDdUG",
        "colab": {
          "base_uri": "https://localhost:8080/"
        },
        "outputId": "dd4b6493-7df7-4de9-e0ae-97c1b51ef682"
      },
      "execution_count": 53,
      "outputs": [
        {
          "output_type": "stream",
          "name": "stdout",
          "text": [
            "Drive already mounted at /content/drive; to attempt to forcibly remount, call drive.mount(\"/content/drive\", force_remount=True).\n"
          ]
        }
      ]
    },
    {
      "cell_type": "code",
      "source": [
        "df = pd.read_csv('/content/drive/MyDrive/Colab Notebooks/Library_data.csv')\n",
        "df.head()"
      ],
      "metadata": {
        "id": "aM55bVXZOvOb",
        "colab": {
          "base_uri": "https://localhost:8080/",
          "height": 206
        },
        "outputId": "b7b4c75d-62da-43c9-c990-5689e0370000"
      },
      "execution_count": 54,
      "outputs": [
        {
          "output_type": "execute_result",
          "data": {
            "text/plain": [
              "                                   Title               Author        Genre  \\\n",
              "0                       The Great Gatsby  F. Scott Fitzgerald      Classic   \n",
              "1                                   1984        George Orwell    Dystopian   \n",
              "2                  To Kill a Mockingbird           Harper Lee      Fiction   \n",
              "3                    Pride and Prejudice          Jane Austen      Romance   \n",
              "4  Sapiens: A Brief History of Humankind    Yuval Noah Harari  Non-Fiction   \n",
              "\n",
              "   Publication_Year  Availability  \n",
              "0              1925          True  \n",
              "1              1949          True  \n",
              "2              1960         False  \n",
              "3              1813          True  \n",
              "4              2014          True  "
            ],
            "text/html": [
              "\n",
              "  <div id=\"df-266f8357-f6e6-4321-b501-3bc1991311b3\" class=\"colab-df-container\">\n",
              "    <div>\n",
              "<style scoped>\n",
              "    .dataframe tbody tr th:only-of-type {\n",
              "        vertical-align: middle;\n",
              "    }\n",
              "\n",
              "    .dataframe tbody tr th {\n",
              "        vertical-align: top;\n",
              "    }\n",
              "\n",
              "    .dataframe thead th {\n",
              "        text-align: right;\n",
              "    }\n",
              "</style>\n",
              "<table border=\"1\" class=\"dataframe\">\n",
              "  <thead>\n",
              "    <tr style=\"text-align: right;\">\n",
              "      <th></th>\n",
              "      <th>Title</th>\n",
              "      <th>Author</th>\n",
              "      <th>Genre</th>\n",
              "      <th>Publication_Year</th>\n",
              "      <th>Availability</th>\n",
              "    </tr>\n",
              "  </thead>\n",
              "  <tbody>\n",
              "    <tr>\n",
              "      <th>0</th>\n",
              "      <td>The Great Gatsby</td>\n",
              "      <td>F. Scott Fitzgerald</td>\n",
              "      <td>Classic</td>\n",
              "      <td>1925</td>\n",
              "      <td>True</td>\n",
              "    </tr>\n",
              "    <tr>\n",
              "      <th>1</th>\n",
              "      <td>1984</td>\n",
              "      <td>George Orwell</td>\n",
              "      <td>Dystopian</td>\n",
              "      <td>1949</td>\n",
              "      <td>True</td>\n",
              "    </tr>\n",
              "    <tr>\n",
              "      <th>2</th>\n",
              "      <td>To Kill a Mockingbird</td>\n",
              "      <td>Harper Lee</td>\n",
              "      <td>Fiction</td>\n",
              "      <td>1960</td>\n",
              "      <td>False</td>\n",
              "    </tr>\n",
              "    <tr>\n",
              "      <th>3</th>\n",
              "      <td>Pride and Prejudice</td>\n",
              "      <td>Jane Austen</td>\n",
              "      <td>Romance</td>\n",
              "      <td>1813</td>\n",
              "      <td>True</td>\n",
              "    </tr>\n",
              "    <tr>\n",
              "      <th>4</th>\n",
              "      <td>Sapiens: A Brief History of Humankind</td>\n",
              "      <td>Yuval Noah Harari</td>\n",
              "      <td>Non-Fiction</td>\n",
              "      <td>2014</td>\n",
              "      <td>True</td>\n",
              "    </tr>\n",
              "  </tbody>\n",
              "</table>\n",
              "</div>\n",
              "    <div class=\"colab-df-buttons\">\n",
              "\n",
              "  <div class=\"colab-df-container\">\n",
              "    <button class=\"colab-df-convert\" onclick=\"convertToInteractive('df-266f8357-f6e6-4321-b501-3bc1991311b3')\"\n",
              "            title=\"Convert this dataframe to an interactive table.\"\n",
              "            style=\"display:none;\">\n",
              "\n",
              "  <svg xmlns=\"http://www.w3.org/2000/svg\" height=\"24px\" viewBox=\"0 -960 960 960\">\n",
              "    <path d=\"M120-120v-720h720v720H120Zm60-500h600v-160H180v160Zm220 220h160v-160H400v160Zm0 220h160v-160H400v160ZM180-400h160v-160H180v160Zm440 0h160v-160H620v160ZM180-180h160v-160H180v160Zm440 0h160v-160H620v160Z\"/>\n",
              "  </svg>\n",
              "    </button>\n",
              "\n",
              "  <style>\n",
              "    .colab-df-container {\n",
              "      display:flex;\n",
              "      gap: 12px;\n",
              "    }\n",
              "\n",
              "    .colab-df-convert {\n",
              "      background-color: #E8F0FE;\n",
              "      border: none;\n",
              "      border-radius: 50%;\n",
              "      cursor: pointer;\n",
              "      display: none;\n",
              "      fill: #1967D2;\n",
              "      height: 32px;\n",
              "      padding: 0 0 0 0;\n",
              "      width: 32px;\n",
              "    }\n",
              "\n",
              "    .colab-df-convert:hover {\n",
              "      background-color: #E2EBFA;\n",
              "      box-shadow: 0px 1px 2px rgba(60, 64, 67, 0.3), 0px 1px 3px 1px rgba(60, 64, 67, 0.15);\n",
              "      fill: #174EA6;\n",
              "    }\n",
              "\n",
              "    .colab-df-buttons div {\n",
              "      margin-bottom: 4px;\n",
              "    }\n",
              "\n",
              "    [theme=dark] .colab-df-convert {\n",
              "      background-color: #3B4455;\n",
              "      fill: #D2E3FC;\n",
              "    }\n",
              "\n",
              "    [theme=dark] .colab-df-convert:hover {\n",
              "      background-color: #434B5C;\n",
              "      box-shadow: 0px 1px 3px 1px rgba(0, 0, 0, 0.15);\n",
              "      filter: drop-shadow(0px 1px 2px rgba(0, 0, 0, 0.3));\n",
              "      fill: #FFFFFF;\n",
              "    }\n",
              "  </style>\n",
              "\n",
              "    <script>\n",
              "      const buttonEl =\n",
              "        document.querySelector('#df-266f8357-f6e6-4321-b501-3bc1991311b3 button.colab-df-convert');\n",
              "      buttonEl.style.display =\n",
              "        google.colab.kernel.accessAllowed ? 'block' : 'none';\n",
              "\n",
              "      async function convertToInteractive(key) {\n",
              "        const element = document.querySelector('#df-266f8357-f6e6-4321-b501-3bc1991311b3');\n",
              "        const dataTable =\n",
              "          await google.colab.kernel.invokeFunction('convertToInteractive',\n",
              "                                                    [key], {});\n",
              "        if (!dataTable) return;\n",
              "\n",
              "        const docLinkHtml = 'Like what you see? Visit the ' +\n",
              "          '<a target=\"_blank\" href=https://colab.research.google.com/notebooks/data_table.ipynb>data table notebook</a>'\n",
              "          + ' to learn more about interactive tables.';\n",
              "        element.innerHTML = '';\n",
              "        dataTable['output_type'] = 'display_data';\n",
              "        await google.colab.output.renderOutput(dataTable, element);\n",
              "        const docLink = document.createElement('div');\n",
              "        docLink.innerHTML = docLinkHtml;\n",
              "        element.appendChild(docLink);\n",
              "      }\n",
              "    </script>\n",
              "  </div>\n",
              "\n",
              "\n",
              "    <div id=\"df-3fcbbca8-4a20-45d9-9ddd-8bd78c8d8c23\">\n",
              "      <button class=\"colab-df-quickchart\" onclick=\"quickchart('df-3fcbbca8-4a20-45d9-9ddd-8bd78c8d8c23')\"\n",
              "                title=\"Suggest charts\"\n",
              "                style=\"display:none;\">\n",
              "\n",
              "<svg xmlns=\"http://www.w3.org/2000/svg\" height=\"24px\"viewBox=\"0 0 24 24\"\n",
              "     width=\"24px\">\n",
              "    <g>\n",
              "        <path d=\"M19 3H5c-1.1 0-2 .9-2 2v14c0 1.1.9 2 2 2h14c1.1 0 2-.9 2-2V5c0-1.1-.9-2-2-2zM9 17H7v-7h2v7zm4 0h-2V7h2v10zm4 0h-2v-4h2v4z\"/>\n",
              "    </g>\n",
              "</svg>\n",
              "      </button>\n",
              "\n",
              "<style>\n",
              "  .colab-df-quickchart {\n",
              "      --bg-color: #E8F0FE;\n",
              "      --fill-color: #1967D2;\n",
              "      --hover-bg-color: #E2EBFA;\n",
              "      --hover-fill-color: #174EA6;\n",
              "      --disabled-fill-color: #AAA;\n",
              "      --disabled-bg-color: #DDD;\n",
              "  }\n",
              "\n",
              "  [theme=dark] .colab-df-quickchart {\n",
              "      --bg-color: #3B4455;\n",
              "      --fill-color: #D2E3FC;\n",
              "      --hover-bg-color: #434B5C;\n",
              "      --hover-fill-color: #FFFFFF;\n",
              "      --disabled-bg-color: #3B4455;\n",
              "      --disabled-fill-color: #666;\n",
              "  }\n",
              "\n",
              "  .colab-df-quickchart {\n",
              "    background-color: var(--bg-color);\n",
              "    border: none;\n",
              "    border-radius: 50%;\n",
              "    cursor: pointer;\n",
              "    display: none;\n",
              "    fill: var(--fill-color);\n",
              "    height: 32px;\n",
              "    padding: 0;\n",
              "    width: 32px;\n",
              "  }\n",
              "\n",
              "  .colab-df-quickchart:hover {\n",
              "    background-color: var(--hover-bg-color);\n",
              "    box-shadow: 0 1px 2px rgba(60, 64, 67, 0.3), 0 1px 3px 1px rgba(60, 64, 67, 0.15);\n",
              "    fill: var(--button-hover-fill-color);\n",
              "  }\n",
              "\n",
              "  .colab-df-quickchart-complete:disabled,\n",
              "  .colab-df-quickchart-complete:disabled:hover {\n",
              "    background-color: var(--disabled-bg-color);\n",
              "    fill: var(--disabled-fill-color);\n",
              "    box-shadow: none;\n",
              "  }\n",
              "\n",
              "  .colab-df-spinner {\n",
              "    border: 2px solid var(--fill-color);\n",
              "    border-color: transparent;\n",
              "    border-bottom-color: var(--fill-color);\n",
              "    animation:\n",
              "      spin 1s steps(1) infinite;\n",
              "  }\n",
              "\n",
              "  @keyframes spin {\n",
              "    0% {\n",
              "      border-color: transparent;\n",
              "      border-bottom-color: var(--fill-color);\n",
              "      border-left-color: var(--fill-color);\n",
              "    }\n",
              "    20% {\n",
              "      border-color: transparent;\n",
              "      border-left-color: var(--fill-color);\n",
              "      border-top-color: var(--fill-color);\n",
              "    }\n",
              "    30% {\n",
              "      border-color: transparent;\n",
              "      border-left-color: var(--fill-color);\n",
              "      border-top-color: var(--fill-color);\n",
              "      border-right-color: var(--fill-color);\n",
              "    }\n",
              "    40% {\n",
              "      border-color: transparent;\n",
              "      border-right-color: var(--fill-color);\n",
              "      border-top-color: var(--fill-color);\n",
              "    }\n",
              "    60% {\n",
              "      border-color: transparent;\n",
              "      border-right-color: var(--fill-color);\n",
              "    }\n",
              "    80% {\n",
              "      border-color: transparent;\n",
              "      border-right-color: var(--fill-color);\n",
              "      border-bottom-color: var(--fill-color);\n",
              "    }\n",
              "    90% {\n",
              "      border-color: transparent;\n",
              "      border-bottom-color: var(--fill-color);\n",
              "    }\n",
              "  }\n",
              "</style>\n",
              "\n",
              "      <script>\n",
              "        async function quickchart(key) {\n",
              "          const quickchartButtonEl =\n",
              "            document.querySelector('#' + key + ' button');\n",
              "          quickchartButtonEl.disabled = true;  // To prevent multiple clicks.\n",
              "          quickchartButtonEl.classList.add('colab-df-spinner');\n",
              "          try {\n",
              "            const charts = await google.colab.kernel.invokeFunction(\n",
              "                'suggestCharts', [key], {});\n",
              "          } catch (error) {\n",
              "            console.error('Error during call to suggestCharts:', error);\n",
              "          }\n",
              "          quickchartButtonEl.classList.remove('colab-df-spinner');\n",
              "          quickchartButtonEl.classList.add('colab-df-quickchart-complete');\n",
              "        }\n",
              "        (() => {\n",
              "          let quickchartButtonEl =\n",
              "            document.querySelector('#df-3fcbbca8-4a20-45d9-9ddd-8bd78c8d8c23 button');\n",
              "          quickchartButtonEl.style.display =\n",
              "            google.colab.kernel.accessAllowed ? 'block' : 'none';\n",
              "        })();\n",
              "      </script>\n",
              "    </div>\n",
              "\n",
              "    </div>\n",
              "  </div>\n"
            ],
            "application/vnd.google.colaboratory.intrinsic+json": {
              "type": "dataframe",
              "variable_name": "df",
              "summary": "{\n  \"name\": \"df\",\n  \"rows\": 10,\n  \"fields\": [\n    {\n      \"column\": \"Title\",\n      \"properties\": {\n        \"dtype\": \"string\",\n        \"num_unique_values\": 10,\n        \"samples\": [\n          \"Dune\",\n          \"1984\",\n          \"The Hitchhiker's Guide to the Galaxy\"\n        ],\n        \"semantic_type\": \"\",\n        \"description\": \"\"\n      }\n    },\n    {\n      \"column\": \"Author\",\n      \"properties\": {\n        \"dtype\": \"string\",\n        \"num_unique_values\": 10,\n        \"samples\": [\n          \"Frank Herbert\",\n          \"George Orwell\",\n          \"Douglas Adams\"\n        ],\n        \"semantic_type\": \"\",\n        \"description\": \"\"\n      }\n    },\n    {\n      \"column\": \"Genre\",\n      \"properties\": {\n        \"dtype\": \"string\",\n        \"num_unique_values\": 9,\n        \"samples\": [\n          \"Biography\",\n          \"Dystopian\",\n          \"Science Fiction\"\n        ],\n        \"semantic_type\": \"\",\n        \"description\": \"\"\n      }\n    },\n    {\n      \"column\": \"Publication_Year\",\n      \"properties\": {\n        \"dtype\": \"number\",\n        \"std\": 60,\n        \"min\": 1813,\n        \"max\": 2018,\n        \"num_unique_values\": 9,\n        \"samples\": [\n          2018,\n          1949,\n          1979\n        ],\n        \"semantic_type\": \"\",\n        \"description\": \"\"\n      }\n    },\n    {\n      \"column\": \"Availability\",\n      \"properties\": {\n        \"dtype\": \"boolean\",\n        \"num_unique_values\": 2,\n        \"samples\": [\n          false,\n          true\n        ],\n        \"semantic_type\": \"\",\n        \"description\": \"\"\n      }\n    }\n  ]\n}"
            }
          },
          "metadata": {},
          "execution_count": 54
        }
      ]
    },
    {
      "cell_type": "code",
      "source": [
        "# Use Magic Commands: Use %timeit to measure the execution time of a simple list comprehension.\n",
        "%timeit [year for year in df['Publication_Year']]"
      ],
      "metadata": {
        "id": "kIPtHgTcO8Ky",
        "colab": {
          "base_uri": "https://localhost:8080/"
        },
        "outputId": "932af396-99eb-4550-e471-e3ad9ecc09de"
      },
      "execution_count": 55,
      "outputs": [
        {
          "output_type": "stream",
          "name": "stdout",
          "text": [
            "7.94 µs ± 4.53 µs per loop (mean ± std. dev. of 7 runs, 100000 loops each)\n"
          ]
        }
      ]
    },
    {
      "cell_type": "markdown",
      "source": [
        "I have successfully learned to utilize Markdown formatting and integrate files from Google Drive within a Colab environment."
      ],
      "metadata": {
        "id": "us3hGz1qaZL0"
      }
    },
    {
      "cell_type": "code",
      "source": [
        "# !jupyter nbconvert Data_Exploration_Assignment1.ipynb --to html"
      ],
      "metadata": {
        "id": "uyuJhkxJW5UT"
      },
      "execution_count": 59,
      "outputs": []
    },
    {
      "cell_type": "code",
      "source": [],
      "metadata": {
        "id": "5Yze3isNZI-O"
      },
      "execution_count": null,
      "outputs": []
    }
  ]
}